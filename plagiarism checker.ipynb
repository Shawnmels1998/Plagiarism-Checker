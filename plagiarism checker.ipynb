{
 "cells": [
  {
   "cell_type": "code",
   "execution_count": 18,
   "id": "c677538e",
   "metadata": {
    "scrolled": false
   },
   "outputs": [
    {
     "ename": "UnicodeDecodeError",
     "evalue": "'charmap' codec can't decode byte 0x9d in position 1898: character maps to <undefined>",
     "output_type": "error",
     "traceback": [
      "\u001b[1;31m---------------------------------------------------------------------------\u001b[0m",
      "\u001b[1;31mUnicodeDecodeError\u001b[0m                        Traceback (most recent call last)",
      "Input \u001b[1;32mIn [18]\u001b[0m, in \u001b[0;36m<cell line: 132>\u001b[1;34m()\u001b[0m\n\u001b[0;32m    130\u001b[0m pinecone_index \u001b[38;5;241m=\u001b[39m create_pinecone_index()\n\u001b[0;32m    131\u001b[0m model \u001b[38;5;241m=\u001b[39m create_model()\n\u001b[1;32m--> 132\u001b[0m uploaded_data \u001b[38;5;241m=\u001b[39m \u001b[43mprocess_file\u001b[49m\u001b[43m(\u001b[49m\u001b[43mfilename\u001b[49m\u001b[38;5;241;43m=\u001b[39;49m\u001b[43mDATA_FILE\u001b[49m\u001b[43m)\u001b[49m\n\u001b[0;32m    133\u001b[0m titles_mapped \u001b[38;5;241m=\u001b[39m map_titles(uploaded_data)\n\u001b[0;32m    134\u001b[0m publications_mapped \u001b[38;5;241m=\u001b[39m map_publications(uploaded_data)\n",
      "Input \u001b[1;32mIn [18]\u001b[0m, in \u001b[0;36mprocess_file\u001b[1;34m(filename)\u001b[0m\n\u001b[0;32m     89\u001b[0m \u001b[38;5;28;01mdef\u001b[39;00m \u001b[38;5;21mprocess_file\u001b[39m(filename):\n\u001b[1;32m---> 90\u001b[0m     \u001b[38;5;28;01mif\u001b[39;00m \u001b[38;5;129;01mnot\u001b[39;00m \u001b[43mcolumn_exists\u001b[49m\u001b[43m(\u001b[49m\u001b[43mfilename\u001b[49m\u001b[43m,\u001b[49m\u001b[43m \u001b[49m\u001b[38;5;124;43m\"\u001b[39;49m\u001b[38;5;124;43mvector\u001b[39;49m\u001b[38;5;124;43m\"\u001b[39;49m\u001b[43m)\u001b[49m:\n\u001b[0;32m     91\u001b[0m         \u001b[38;5;28;01mraise\u001b[39;00m \u001b[38;5;167;01mValueError\u001b[39;00m(\u001b[38;5;124m\"\u001b[39m\u001b[38;5;124mThe input file does not contain the required \u001b[39m\u001b[38;5;124m'\u001b[39m\u001b[38;5;124mvector\u001b[39m\u001b[38;5;124m'\u001b[39m\u001b[38;5;124m column.\u001b[39m\u001b[38;5;124m\"\u001b[39m)\n\u001b[0;32m     92\u001b[0m     data \u001b[38;5;241m=\u001b[39m pd\u001b[38;5;241m.\u001b[39mread_csv(filename, nrows\u001b[38;5;241m=\u001b[39mNROWS, encoding\u001b[38;5;241m=\u001b[39m\u001b[38;5;124m'\u001b[39m\u001b[38;5;124mUTF-16\u001b[39m\u001b[38;5;124m'\u001b[39m)\n",
      "Input \u001b[1;32mIn [18]\u001b[0m, in \u001b[0;36mcolumn_exists\u001b[1;34m(filename, column_name)\u001b[0m\n\u001b[0;32m     98\u001b[0m \u001b[38;5;28;01mdef\u001b[39;00m \u001b[38;5;21mcolumn_exists\u001b[39m(filename, column_name):\n\u001b[0;32m     99\u001b[0m     \u001b[38;5;28;01mwith\u001b[39;00m \u001b[38;5;28mopen\u001b[39m(filename, \u001b[38;5;124m\"\u001b[39m\u001b[38;5;124mr\u001b[39m\u001b[38;5;124m\"\u001b[39m) \u001b[38;5;28;01mas\u001b[39;00m file:\n\u001b[1;32m--> 100\u001b[0m         header \u001b[38;5;241m=\u001b[39m \u001b[43mfile\u001b[49m\u001b[38;5;241;43m.\u001b[39;49m\u001b[43mreadline\u001b[49m\u001b[43m(\u001b[49m\u001b[43m)\u001b[49m\u001b[38;5;241m.\u001b[39mstrip()\u001b[38;5;241m.\u001b[39msplit(\u001b[38;5;124m\"\u001b[39m\u001b[38;5;124m,\u001b[39m\u001b[38;5;124m\"\u001b[39m)\n\u001b[0;32m    101\u001b[0m         \u001b[38;5;28;01mreturn\u001b[39;00m column_name \u001b[38;5;129;01min\u001b[39;00m header\n",
      "File \u001b[1;32m~\\anaconda3\\lib\\encodings\\cp1252.py:23\u001b[0m, in \u001b[0;36mIncrementalDecoder.decode\u001b[1;34m(self, input, final)\u001b[0m\n\u001b[0;32m     22\u001b[0m \u001b[38;5;28;01mdef\u001b[39;00m \u001b[38;5;21mdecode\u001b[39m(\u001b[38;5;28mself\u001b[39m, \u001b[38;5;28minput\u001b[39m, final\u001b[38;5;241m=\u001b[39m\u001b[38;5;28;01mFalse\u001b[39;00m):\n\u001b[1;32m---> 23\u001b[0m     \u001b[38;5;28;01mreturn\u001b[39;00m \u001b[43mcodecs\u001b[49m\u001b[38;5;241;43m.\u001b[39;49m\u001b[43mcharmap_decode\u001b[49m\u001b[43m(\u001b[49m\u001b[38;5;28;43minput\u001b[39;49m\u001b[43m,\u001b[49m\u001b[38;5;28;43mself\u001b[39;49m\u001b[38;5;241;43m.\u001b[39;49m\u001b[43merrors\u001b[49m\u001b[43m,\u001b[49m\u001b[43mdecoding_table\u001b[49m\u001b[43m)\u001b[49m[\u001b[38;5;241m0\u001b[39m]\n",
      "\u001b[1;31mUnicodeDecodeError\u001b[0m: 'charmap' codec can't decode byte 0x9d in position 1898: character maps to <undefined>"
     ]
    }
   ],
   "source": [
    "from dotenv import load_dotenv\n",
    "from flask import Flask\n",
    "from flask import render_template\n",
    "from flask import request\n",
    "from flask import url_for\n",
    "import json\n",
    "import os\n",
    "import pandas as pd\n",
    "import pinecone\n",
    "import re\n",
    "import requests\n",
    "from sentence_transformers import SentenceTransformer\n",
    "from statistics import mean\n",
    "import swifter\n",
    "\n",
    "app = Flask(__name__)\n",
    "\n",
    "PINECONE_INDEX_NAME = \"plagiarism-checker\"\n",
    "DATA_FILE = \"articles.csv\"\n",
    "NROWS = 20000\n",
    "\n",
    "def initialize_pinecone():\n",
    "    load_dotenv()\n",
    "    os.environ[\"PINECONE_API_KEY\"] = \"16210325-84fb-490b-bb1b-8e4be075eb38\"\n",
    "    pinecone.init(api_key=\"16210325-84fb-490b-bb1b-8e4be075eb38\", environment=\"us-east1-gcp\")\n",
    "\n",
    "def delete_existing_pinecone_index():\n",
    "    if PINECONE_INDEX_NAME in pinecone.list_indexes():\n",
    "        pinecone.delete_index(PINECONE_INDEX_NAME)\n",
    "\n",
    "def create_pinecone_index():\n",
    "    pinecone.create_index(PINECONE_INDEX_NAME, dimension=8, metric=\"cosine\", shards=1)\n",
    "    pinecone_index = pinecone.Index(PINECONE_INDEX_NAME)\n",
    "\n",
    "    return pinecone_index\n",
    "\n",
    "def create_model():\n",
    "    model = SentenceTransformer('average_word_embeddings_komninos')\n",
    "\n",
    "    return model\n",
    "\n",
    "def prepare_data(data):\n",
    "    # rename id column and remove unnecessary columns\n",
    "    data.rename(columns={\"Unnamed: 0\": \"article_id\"}, inplace = True)\n",
    "    data.drop(columns=['date'], inplace = True)\n",
    "\n",
    "    # combine the article title and content into a single field\n",
    "    data['content'] = data['content'].fillna('')\n",
    "    data['content'] = data.content.swifter.apply(lambda x: ' '.join(re.split(r'(?<=[.:;])\\s', x)))\n",
    "    data['title_and_content'] = data['title'] + ' ' + data['content']\n",
    "\n",
    "    # create a vector embedding based on title and article content\n",
    "    encoded_articles = model.encode(data['title_and_content'], show_progress_bar=True)\n",
    "    data['article_vector'] = pd.Series(encoded_articles.tolist())\n",
    "\n",
    "    return data\n",
    "\n",
    "\n",
    "#def upload_items(data):\n",
    "    #items_to_upload = [(row.id, row.article_vector) for i, row in data.iterrows()]\n",
    "    #vectors = [Vector(id=_id, values=vector) for _id, vector in items_to_upload]\n",
    "    #vectors = [vector for _id, vector in items_to_upload]\n",
    "    #pinecone_index.upsert(items=items_to_upload,  vectors=vectors)\n",
    "    \n",
    "#def upload_items(data):\n",
    "    #items_to_upload = list(zip(data.index, data.vector))\n",
    "    #vectors = []\n",
    "    #for _id, vector in items_to_upload:\n",
    "      #  vectors.append(Vector(id=_id, values=vector))\n",
    "   # pinecone_index.upsert(items=items_to_upload, vectors=vectors)\n",
    "\n",
    "def upload_items(data):\n",
    "    if \"vector\" not in data.columns:\n",
    "        raise ValueError(\"DataFrame is missing the 'vector' column.\")\n",
    "    items_to_upload = list(zip(data.index, data.vector))\n",
    "    vectors = []\n",
    "    for _id, vector in items_to_upload:\n",
    "        vectors.append(vector)\n",
    "    pinecone_index.add(vectors)\n",
    "\n",
    "#def process_file(filename):\n",
    "    #data = pd.read_csv(filename, nrows=NROWS)\n",
    "    #data = prepare_data(data)\n",
    "    #upload_items(data)\n",
    "    #pinecone_index.info()\n",
    "\n",
    "    #return data\n",
    "    \n",
    "def process_file(filename):\n",
    "    if not column_exists(filename, \"vector\"):\n",
    "        raise ValueError(\"The input file does not contain the required 'vector' column.\")\n",
    "    data = pd.read_csv(filename, nrows=NROWS, encoding='UTF-16')\n",
    "    data = prepare_data(data)\n",
    "    upload_items(data)\n",
    "    \n",
    "    return data\n",
    "\n",
    "def column_exists(filename, column_name):\n",
    "    with open(filename, \"r\") as file:\n",
    "        header = file.readline().strip().split(\",\")\n",
    "        return column_name in header\n",
    "    \n",
    "def map_titles(data):\n",
    "    return dict(zip(uploaded_data.id, uploaded_data.title))\n",
    "\n",
    "def map_publications(data):\n",
    "    return dict(zip(uploaded_data.id, uploaded_data.publication))\n",
    "\n",
    "def query_pinecone(originalContent):\n",
    "    query_content = str(originalContent)\n",
    "    query_vectors = [model.encode(query_content)]\n",
    "\n",
    "    query_results = pinecone_index.query(queries=query_vectors, top_k=10)\n",
    "    res = query_results[0]\n",
    "\n",
    "    results_list = []\n",
    "\n",
    "    for idx, _id in enumerate(res.ids):\n",
    "        results_list.append({\n",
    "            \"id\": _id,\n",
    "            \"title\": titles_mapped[int(_id)],\n",
    "            \"publication\": publications_mapped[int(_id)],\n",
    "            \"score\": res.scores[idx],\n",
    "        })\n",
    "\n",
    "    return json.dumps(results_list)\n",
    "\n",
    "initialize_pinecone()\n",
    "delete_existing_pinecone_index()\n",
    "pinecone_index = create_pinecone_index()\n",
    "model = create_model()\n",
    "uploaded_data = process_file(filename=DATA_FILE)\n",
    "titles_mapped = map_titles(uploaded_data)\n",
    "publications_mapped = map_publications(uploaded_data)\n",
    "\n",
    "@app.route(\"/\")\n",
    "def index():\n",
    "    return render_template(\"index.html\")\n",
    "\n",
    "@app.route(\"/api/search\", methods=[\"POST\", \"GET\"])\n",
    "def search():\n",
    "    if request.method == \"POST\":\n",
    "        return query_pinecone(request.form.get(\"originalContent\", \"\"))\n",
    "    if request.method == \"GET\":\n",
    "        return query_pinecone(request.args.get(\"originalContent\", \"\"))\n",
    "    return \"Only GET and POST methods are allowed for this endpoint\""
   ]
  },
  {
   "cell_type": "code",
   "execution_count": 10,
   "id": "0b4ea6fd",
   "metadata": {},
   "outputs": [
    {
     "name": "stdout",
     "output_type": "stream",
     "text": [
      "Requirement already satisfied: pandas in c:\\users\\elitebook\\anaconda3\\lib\\site-packages (1.4.2)\n",
      "Requirement already satisfied: pytz>=2020.1 in c:\\users\\elitebook\\anaconda3\\lib\\site-packages (from pandas) (2021.3)\n",
      "Requirement already satisfied: python-dateutil>=2.8.1 in c:\\users\\elitebook\\anaconda3\\lib\\site-packages (from pandas) (2.8.2)\n",
      "Requirement already satisfied: numpy>=1.18.5 in c:\\users\\elitebook\\anaconda3\\lib\\site-packages (from pandas) (1.21.5)\n",
      "Requirement already satisfied: six>=1.5 in c:\\users\\elitebook\\anaconda3\\lib\\site-packages (from python-dateutil>=2.8.1->pandas) (1.16.0)\n"
     ]
    }
   ],
   "source": [
    "!pip install pandas"
   ]
  },
  {
   "cell_type": "code",
   "execution_count": 3,
   "id": "867d6afa",
   "metadata": {},
   "outputs": [
    {
     "name": "stdout",
     "output_type": "stream",
     "text": [
      "Requirement already satisfied: flask in c:\\users\\elitebook\\anaconda3\\lib\\site-packages (1.1.2)\n",
      "Requirement already satisfied: itsdangerous>=0.24 in c:\\users\\elitebook\\anaconda3\\lib\\site-packages (from flask) (2.0.1)\n",
      "Requirement already satisfied: click>=5.1 in c:\\users\\elitebook\\anaconda3\\lib\\site-packages (from flask) (8.0.4)\n",
      "Requirement already satisfied: Jinja2>=2.10.1 in c:\\users\\elitebook\\anaconda3\\lib\\site-packages (from flask) (2.11.3)\n",
      "Requirement already satisfied: Werkzeug>=0.15 in c:\\users\\elitebook\\anaconda3\\lib\\site-packages (from flask) (2.0.3)\n",
      "Requirement already satisfied: colorama in c:\\users\\elitebook\\anaconda3\\lib\\site-packages (from click>=5.1->flask) (0.4.4)\n",
      "Requirement already satisfied: MarkupSafe>=0.23 in c:\\users\\elitebook\\anaconda3\\lib\\site-packages (from Jinja2>=2.10.1->flask) (2.0.1)\n"
     ]
    }
   ],
   "source": [
    "!pip install flask"
   ]
  },
  {
   "cell_type": "code",
   "execution_count": 4,
   "id": "dbb5fed7",
   "metadata": {},
   "outputs": [
    {
     "name": "stdout",
     "output_type": "stream",
     "text": [
      "Collecting python-dotenv\n",
      "  Using cached python_dotenv-0.21.1-py3-none-any.whl (19 kB)\n",
      "Installing collected packages: python-dotenv\n",
      "Successfully installed python-dotenv-0.21.1\n"
     ]
    }
   ],
   "source": [
    "!pip install python-dotenv"
   ]
  },
  {
   "cell_type": "code",
   "execution_count": 6,
   "id": "dd6ae286",
   "metadata": {},
   "outputs": [
    {
     "name": "stdout",
     "output_type": "stream",
     "text": [
      "Collecting pinecone-client\n",
      "  Using cached pinecone_client-2.1.0-py3-none-any.whl (170 kB)\n",
      "Collecting tqdm>=4.64.1\n",
      "  Using cached tqdm-4.64.1-py2.py3-none-any.whl (78 kB)\n",
      "Requirement already satisfied: pyyaml>=5.4 in c:\\users\\elitebook\\anaconda3\\lib\\site-packages (from pinecone-client) (6.0)\n",
      "Collecting dnspython>=2.0.0\n",
      "  Using cached dnspython-2.3.0-py3-none-any.whl (283 kB)\n",
      "Requirement already satisfied: requests>=2.19.0 in c:\\users\\elitebook\\anaconda3\\lib\\site-packages (from pinecone-client) (2.27.1)\n",
      "Collecting loguru>=0.5.0\n",
      "  Using cached loguru-0.6.0-py3-none-any.whl (58 kB)\n",
      "Requirement already satisfied: python-dateutil>=2.5.3 in c:\\users\\elitebook\\anaconda3\\lib\\site-packages (from pinecone-client) (2.8.2)\n",
      "Requirement already satisfied: urllib3>=1.21.1 in c:\\users\\elitebook\\anaconda3\\lib\\site-packages (from pinecone-client) (1.26.9)\n",
      "Requirement already satisfied: typing-extensions>=3.7.4 in c:\\users\\elitebook\\anaconda3\\lib\\site-packages (from pinecone-client) (4.1.1)\n",
      "Requirement already satisfied: colorama>=0.3.4 in c:\\users\\elitebook\\anaconda3\\lib\\site-packages (from loguru>=0.5.0->pinecone-client) (0.4.4)\n",
      "Collecting win32-setctime>=1.0.0\n",
      "  Using cached win32_setctime-1.1.0-py3-none-any.whl (3.6 kB)\n",
      "Requirement already satisfied: six>=1.5 in c:\\users\\elitebook\\anaconda3\\lib\\site-packages (from python-dateutil>=2.5.3->pinecone-client) (1.16.0)\n",
      "Requirement already satisfied: certifi>=2017.4.17 in c:\\users\\elitebook\\anaconda3\\lib\\site-packages (from requests>=2.19.0->pinecone-client) (2021.10.8)\n",
      "Requirement already satisfied: idna<4,>=2.5 in c:\\users\\elitebook\\anaconda3\\lib\\site-packages (from requests>=2.19.0->pinecone-client) (3.3)\n",
      "Requirement already satisfied: charset-normalizer~=2.0.0 in c:\\users\\elitebook\\anaconda3\\lib\\site-packages (from requests>=2.19.0->pinecone-client) (2.0.4)\n",
      "Installing collected packages: win32-setctime, tqdm, loguru, dnspython, pinecone-client\n",
      "  Attempting uninstall: tqdm\n",
      "    Found existing installation: tqdm 4.64.0\n",
      "    Uninstalling tqdm-4.64.0:\n",
      "      Successfully uninstalled tqdm-4.64.0\n",
      "Successfully installed dnspython-2.3.0 loguru-0.6.0 pinecone-client-2.1.0 tqdm-4.64.1 win32-setctime-1.1.0\n"
     ]
    }
   ],
   "source": [
    "!pip install pinecone-client"
   ]
  },
  {
   "cell_type": "code",
   "execution_count": 8,
   "id": "876eee95",
   "metadata": {},
   "outputs": [
    {
     "name": "stdout",
     "output_type": "stream",
     "text": [
      "Collecting sentence_transformers\n",
      "  Using cached sentence-transformers-2.2.2.tar.gz (85 kB)\n",
      "Collecting transformers<5.0.0,>=4.6.0\n",
      "  Using cached transformers-4.26.0-py3-none-any.whl (6.3 MB)\n",
      "Requirement already satisfied: tqdm in c:\\users\\elitebook\\anaconda3\\lib\\site-packages (from sentence_transformers) (4.64.1)\n",
      "Collecting torch>=1.6.0\n",
      "  Downloading torch-1.13.1-cp39-cp39-win_amd64.whl (162.5 MB)\n",
      "Collecting torchvision\n",
      "  Downloading torchvision-0.14.1-cp39-cp39-win_amd64.whl (1.1 MB)\n",
      "Requirement already satisfied: numpy in c:\\users\\elitebook\\anaconda3\\lib\\site-packages (from sentence_transformers) (1.21.5)\n",
      "Requirement already satisfied: scikit-learn in c:\\users\\elitebook\\anaconda3\\lib\\site-packages (from sentence_transformers) (1.0.2)\n",
      "Requirement already satisfied: scipy in c:\\users\\elitebook\\anaconda3\\lib\\site-packages (from sentence_transformers) (1.7.3)\n",
      "Requirement already satisfied: nltk in c:\\users\\elitebook\\anaconda3\\lib\\site-packages (from sentence_transformers) (3.7)\n",
      "Collecting sentencepiece\n",
      "  Downloading sentencepiece-0.1.97-cp39-cp39-win_amd64.whl (1.1 MB)\n",
      "Collecting huggingface-hub>=0.4.0\n",
      "  Using cached huggingface_hub-0.12.0-py3-none-any.whl (190 kB)\n",
      "Requirement already satisfied: typing-extensions>=3.7.4.3 in c:\\users\\elitebook\\anaconda3\\lib\\site-packages (from huggingface-hub>=0.4.0->sentence_transformers) (4.1.1)\n",
      "Requirement already satisfied: packaging>=20.9 in c:\\users\\elitebook\\anaconda3\\lib\\site-packages (from huggingface-hub>=0.4.0->sentence_transformers) (21.3)\n",
      "Requirement already satisfied: requests in c:\\users\\elitebook\\anaconda3\\lib\\site-packages (from huggingface-hub>=0.4.0->sentence_transformers) (2.27.1)\n",
      "Requirement already satisfied: filelock in c:\\users\\elitebook\\anaconda3\\lib\\site-packages (from huggingface-hub>=0.4.0->sentence_transformers) (3.6.0)\n",
      "Requirement already satisfied: pyyaml>=5.1 in c:\\users\\elitebook\\anaconda3\\lib\\site-packages (from huggingface-hub>=0.4.0->sentence_transformers) (6.0)\n",
      "Requirement already satisfied: pyparsing!=3.0.5,>=2.0.2 in c:\\users\\elitebook\\anaconda3\\lib\\site-packages (from packaging>=20.9->huggingface-hub>=0.4.0->sentence_transformers) (3.0.4)\n",
      "Requirement already satisfied: colorama in c:\\users\\elitebook\\anaconda3\\lib\\site-packages (from tqdm->sentence_transformers) (0.4.4)\n",
      "Collecting tokenizers!=0.11.3,<0.14,>=0.11.1\n",
      "  Downloading tokenizers-0.13.2-cp39-cp39-win_amd64.whl (3.3 MB)\n",
      "Requirement already satisfied: regex!=2019.12.17 in c:\\users\\elitebook\\anaconda3\\lib\\site-packages (from transformers<5.0.0,>=4.6.0->sentence_transformers) (2022.3.15)\n",
      "Requirement already satisfied: joblib in c:\\users\\elitebook\\anaconda3\\lib\\site-packages (from nltk->sentence_transformers) (1.1.0)\n",
      "Requirement already satisfied: click in c:\\users\\elitebook\\anaconda3\\lib\\site-packages (from nltk->sentence_transformers) (8.0.4)\n",
      "Requirement already satisfied: charset-normalizer~=2.0.0 in c:\\users\\elitebook\\anaconda3\\lib\\site-packages (from requests->huggingface-hub>=0.4.0->sentence_transformers) (2.0.4)\n",
      "Requirement already satisfied: certifi>=2017.4.17 in c:\\users\\elitebook\\anaconda3\\lib\\site-packages (from requests->huggingface-hub>=0.4.0->sentence_transformers) (2021.10.8)\n",
      "Requirement already satisfied: idna<4,>=2.5 in c:\\users\\elitebook\\anaconda3\\lib\\site-packages (from requests->huggingface-hub>=0.4.0->sentence_transformers) (3.3)\n",
      "Requirement already satisfied: urllib3<1.27,>=1.21.1 in c:\\users\\elitebook\\anaconda3\\lib\\site-packages (from requests->huggingface-hub>=0.4.0->sentence_transformers) (1.26.9)\n",
      "Requirement already satisfied: threadpoolctl>=2.0.0 in c:\\users\\elitebook\\anaconda3\\lib\\site-packages (from scikit-learn->sentence_transformers) (2.2.0)\n",
      "Requirement already satisfied: pillow!=8.3.*,>=5.3.0 in c:\\users\\elitebook\\anaconda3\\lib\\site-packages (from torchvision->sentence_transformers) (9.0.1)\n",
      "Building wheels for collected packages: sentence-transformers\n",
      "  Building wheel for sentence-transformers (setup.py): started\n",
      "  Building wheel for sentence-transformers (setup.py): finished with status 'done'\n",
      "  Created wheel for sentence-transformers: filename=sentence_transformers-2.2.2-py3-none-any.whl size=125940 sha256=10593f1c238471addc930caf39b3a3b9111c547d663aa95992f1d72f88d7ab92\n",
      "  Stored in directory: c:\\users\\elitebook\\appdata\\local\\pip\\cache\\wheels\\71\\67\\06\\162a3760c40d74dd40bc855d527008d26341c2b0ecf3e8e11f\n",
      "Successfully built sentence-transformers\n",
      "Installing collected packages: torch, tokenizers, huggingface-hub, transformers, torchvision, sentencepiece, sentence-transformers\n",
      "Successfully installed huggingface-hub-0.12.0 sentence-transformers-2.2.2 sentencepiece-0.1.97 tokenizers-0.13.2 torch-1.13.1 torchvision-0.14.1 transformers-4.26.0\n"
     ]
    }
   ],
   "source": [
    "!pip install sentence_transformers"
   ]
  },
  {
   "cell_type": "code",
   "execution_count": 10,
   "id": "0a4164f3",
   "metadata": {},
   "outputs": [
    {
     "name": "stdout",
     "output_type": "stream",
     "text": [
      "Collecting swifter\n",
      "  Using cached swifter-1.3.4.tar.gz (830 kB)\n",
      "Requirement already satisfied: pandas>=1.0.0 in c:\\users\\elitebook\\anaconda3\\lib\\site-packages (from swifter) (1.4.2)\n",
      "Requirement already satisfied: psutil>=5.6.6 in c:\\users\\elitebook\\anaconda3\\lib\\site-packages (from swifter) (5.8.0)\n",
      "Requirement already satisfied: dask[dataframe]>=2.10.0 in c:\\users\\elitebook\\anaconda3\\lib\\site-packages (from swifter) (2022.2.1)\n",
      "Requirement already satisfied: tqdm>=4.33.0 in c:\\users\\elitebook\\anaconda3\\lib\\site-packages (from swifter) (4.64.1)\n",
      "Requirement already satisfied: ipywidgets>=7.0.0 in c:\\users\\elitebook\\anaconda3\\lib\\site-packages (from swifter) (7.6.5)\n",
      "Requirement already satisfied: cloudpickle>=0.2.2 in c:\\users\\elitebook\\anaconda3\\lib\\site-packages (from swifter) (2.0.0)\n",
      "Requirement already satisfied: parso>0.4.0 in c:\\users\\elitebook\\anaconda3\\lib\\site-packages (from swifter) (0.8.3)\n",
      "Requirement already satisfied: bleach>=3.1.1 in c:\\users\\elitebook\\anaconda3\\lib\\site-packages (from swifter) (4.1.0)\n",
      "Requirement already satisfied: six>=1.9.0 in c:\\users\\elitebook\\anaconda3\\lib\\site-packages (from bleach>=3.1.1->swifter) (1.16.0)\n",
      "Requirement already satisfied: packaging in c:\\users\\elitebook\\anaconda3\\lib\\site-packages (from bleach>=3.1.1->swifter) (21.3)\n",
      "Requirement already satisfied: webencodings in c:\\users\\elitebook\\anaconda3\\lib\\site-packages (from bleach>=3.1.1->swifter) (0.5.1)\n",
      "Requirement already satisfied: fsspec>=0.6.0 in c:\\users\\elitebook\\anaconda3\\lib\\site-packages (from dask[dataframe]>=2.10.0->swifter) (2022.2.0)\n",
      "Requirement already satisfied: pyyaml>=5.3.1 in c:\\users\\elitebook\\anaconda3\\lib\\site-packages (from dask[dataframe]>=2.10.0->swifter) (6.0)\n",
      "Requirement already satisfied: toolz>=0.8.2 in c:\\users\\elitebook\\anaconda3\\lib\\site-packages (from dask[dataframe]>=2.10.0->swifter) (0.11.2)\n",
      "Requirement already satisfied: partd>=0.3.10 in c:\\users\\elitebook\\anaconda3\\lib\\site-packages (from dask[dataframe]>=2.10.0->swifter) (1.2.0)\n",
      "Requirement already satisfied: numpy>=1.18 in c:\\users\\elitebook\\anaconda3\\lib\\site-packages (from dask[dataframe]>=2.10.0->swifter) (1.21.5)\n",
      "Requirement already satisfied: nbformat>=4.2.0 in c:\\users\\elitebook\\anaconda3\\lib\\site-packages (from ipywidgets>=7.0.0->swifter) (5.3.0)\n",
      "Requirement already satisfied: jupyterlab-widgets>=1.0.0 in c:\\users\\elitebook\\anaconda3\\lib\\site-packages (from ipywidgets>=7.0.0->swifter) (1.0.0)\n",
      "Requirement already satisfied: traitlets>=4.3.1 in c:\\users\\elitebook\\anaconda3\\lib\\site-packages (from ipywidgets>=7.0.0->swifter) (5.1.1)\n",
      "Requirement already satisfied: widgetsnbextension~=3.5.0 in c:\\users\\elitebook\\anaconda3\\lib\\site-packages (from ipywidgets>=7.0.0->swifter) (3.5.2)\n",
      "Requirement already satisfied: ipython>=4.0.0 in c:\\users\\elitebook\\anaconda3\\lib\\site-packages (from ipywidgets>=7.0.0->swifter) (8.2.0)\n",
      "Requirement already satisfied: ipykernel>=4.5.1 in c:\\users\\elitebook\\anaconda3\\lib\\site-packages (from ipywidgets>=7.0.0->swifter) (6.9.1)\n",
      "Requirement already satisfied: ipython-genutils~=0.2.0 in c:\\users\\elitebook\\anaconda3\\lib\\site-packages (from ipywidgets>=7.0.0->swifter) (0.2.0)\n",
      "Requirement already satisfied: tornado<7.0,>=4.2 in c:\\users\\elitebook\\anaconda3\\lib\\site-packages (from ipykernel>=4.5.1->ipywidgets>=7.0.0->swifter) (6.1)\n",
      "Requirement already satisfied: matplotlib-inline<0.2.0,>=0.1.0 in c:\\users\\elitebook\\anaconda3\\lib\\site-packages (from ipykernel>=4.5.1->ipywidgets>=7.0.0->swifter) (0.1.2)\n",
      "Requirement already satisfied: jupyter-client<8.0 in c:\\users\\elitebook\\anaconda3\\lib\\site-packages (from ipykernel>=4.5.1->ipywidgets>=7.0.0->swifter) (6.1.12)\n",
      "Requirement already satisfied: nest-asyncio in c:\\users\\elitebook\\anaconda3\\lib\\site-packages (from ipykernel>=4.5.1->ipywidgets>=7.0.0->swifter) (1.5.5)\n",
      "Requirement already satisfied: debugpy<2.0,>=1.0.0 in c:\\users\\elitebook\\anaconda3\\lib\\site-packages (from ipykernel>=4.5.1->ipywidgets>=7.0.0->swifter) (1.5.1)\n",
      "Requirement already satisfied: prompt-toolkit!=3.0.0,!=3.0.1,<3.1.0,>=2.0.0 in c:\\users\\elitebook\\anaconda3\\lib\\site-packages (from ipython>=4.0.0->ipywidgets>=7.0.0->swifter) (3.0.20)\n",
      "Requirement already satisfied: backcall in c:\\users\\elitebook\\anaconda3\\lib\\site-packages (from ipython>=4.0.0->ipywidgets>=7.0.0->swifter) (0.2.0)\n",
      "Requirement already satisfied: jedi>=0.16 in c:\\users\\elitebook\\anaconda3\\lib\\site-packages (from ipython>=4.0.0->ipywidgets>=7.0.0->swifter) (0.18.1)\n",
      "Requirement already satisfied: colorama in c:\\users\\elitebook\\anaconda3\\lib\\site-packages (from ipython>=4.0.0->ipywidgets>=7.0.0->swifter) (0.4.4)\n",
      "Requirement already satisfied: stack-data in c:\\users\\elitebook\\anaconda3\\lib\\site-packages (from ipython>=4.0.0->ipywidgets>=7.0.0->swifter) (0.2.0)\n",
      "Requirement already satisfied: setuptools>=18.5 in c:\\users\\elitebook\\anaconda3\\lib\\site-packages (from ipython>=4.0.0->ipywidgets>=7.0.0->swifter) (61.2.0)\n",
      "Requirement already satisfied: pygments>=2.4.0 in c:\\users\\elitebook\\anaconda3\\lib\\site-packages (from ipython>=4.0.0->ipywidgets>=7.0.0->swifter) (2.11.2)\n",
      "Requirement already satisfied: decorator in c:\\users\\elitebook\\anaconda3\\lib\\site-packages (from ipython>=4.0.0->ipywidgets>=7.0.0->swifter) (5.1.1)\n",
      "Requirement already satisfied: pickleshare in c:\\users\\elitebook\\anaconda3\\lib\\site-packages (from ipython>=4.0.0->ipywidgets>=7.0.0->swifter) (0.7.5)\n",
      "Requirement already satisfied: python-dateutil>=2.1 in c:\\users\\elitebook\\anaconda3\\lib\\site-packages (from jupyter-client<8.0->ipykernel>=4.5.1->ipywidgets>=7.0.0->swifter) (2.8.2)\n",
      "Requirement already satisfied: jupyter-core>=4.6.0 in c:\\users\\elitebook\\anaconda3\\lib\\site-packages (from jupyter-client<8.0->ipykernel>=4.5.1->ipywidgets>=7.0.0->swifter) (4.9.2)\n",
      "Requirement already satisfied: pyzmq>=13 in c:\\users\\elitebook\\anaconda3\\lib\\site-packages (from jupyter-client<8.0->ipykernel>=4.5.1->ipywidgets>=7.0.0->swifter) (22.3.0)\n",
      "Requirement already satisfied: pywin32>=1.0 in c:\\users\\elitebook\\anaconda3\\lib\\site-packages (from jupyter-core>=4.6.0->jupyter-client<8.0->ipykernel>=4.5.1->ipywidgets>=7.0.0->swifter) (302)\n",
      "Requirement already satisfied: fastjsonschema in c:\\users\\elitebook\\anaconda3\\lib\\site-packages (from nbformat>=4.2.0->ipywidgets>=7.0.0->swifter) (2.15.1)\n",
      "Requirement already satisfied: jsonschema>=2.6 in c:\\users\\elitebook\\anaconda3\\lib\\site-packages (from nbformat>=4.2.0->ipywidgets>=7.0.0->swifter) (4.4.0)\n",
      "Requirement already satisfied: attrs>=17.4.0 in c:\\users\\elitebook\\anaconda3\\lib\\site-packages (from jsonschema>=2.6->nbformat>=4.2.0->ipywidgets>=7.0.0->swifter) (21.4.0)\n",
      "Requirement already satisfied: pyrsistent!=0.17.0,!=0.17.1,!=0.17.2,>=0.14.0 in c:\\users\\elitebook\\anaconda3\\lib\\site-packages (from jsonschema>=2.6->nbformat>=4.2.0->ipywidgets>=7.0.0->swifter) (0.18.0)\n",
      "Requirement already satisfied: pyparsing!=3.0.5,>=2.0.2 in c:\\users\\elitebook\\anaconda3\\lib\\site-packages (from packaging->bleach>=3.1.1->swifter) (3.0.4)\n",
      "Requirement already satisfied: pytz>=2020.1 in c:\\users\\elitebook\\anaconda3\\lib\\site-packages (from pandas>=1.0.0->swifter) (2021.3)\n",
      "Requirement already satisfied: locket in c:\\users\\elitebook\\anaconda3\\lib\\site-packages (from partd>=0.3.10->dask[dataframe]>=2.10.0->swifter) (0.2.1)\n",
      "Requirement already satisfied: wcwidth in c:\\users\\elitebook\\anaconda3\\lib\\site-packages (from prompt-toolkit!=3.0.0,!=3.0.1,<3.1.0,>=2.0.0->ipython>=4.0.0->ipywidgets>=7.0.0->swifter) (0.2.5)\n",
      "Requirement already satisfied: notebook>=4.4.1 in c:\\users\\elitebook\\anaconda3\\lib\\site-packages (from widgetsnbextension~=3.5.0->ipywidgets>=7.0.0->swifter) (6.4.8)\n",
      "Requirement already satisfied: Send2Trash>=1.8.0 in c:\\users\\elitebook\\anaconda3\\lib\\site-packages (from notebook>=4.4.1->widgetsnbextension~=3.5.0->ipywidgets>=7.0.0->swifter) (1.8.0)\n",
      "Requirement already satisfied: argon2-cffi in c:\\users\\elitebook\\anaconda3\\lib\\site-packages (from notebook>=4.4.1->widgetsnbextension~=3.5.0->ipywidgets>=7.0.0->swifter) (21.3.0)\n",
      "Requirement already satisfied: terminado>=0.8.3 in c:\\users\\elitebook\\anaconda3\\lib\\site-packages (from notebook>=4.4.1->widgetsnbextension~=3.5.0->ipywidgets>=7.0.0->swifter) (0.13.1)\n",
      "Requirement already satisfied: nbconvert in c:\\users\\elitebook\\anaconda3\\lib\\site-packages (from notebook>=4.4.1->widgetsnbextension~=3.5.0->ipywidgets>=7.0.0->swifter) (6.4.4)\n",
      "Requirement already satisfied: jinja2 in c:\\users\\elitebook\\anaconda3\\lib\\site-packages (from notebook>=4.4.1->widgetsnbextension~=3.5.0->ipywidgets>=7.0.0->swifter) (2.11.3)\n",
      "Requirement already satisfied: prometheus-client in c:\\users\\elitebook\\anaconda3\\lib\\site-packages (from notebook>=4.4.1->widgetsnbextension~=3.5.0->ipywidgets>=7.0.0->swifter) (0.13.1)\n",
      "Requirement already satisfied: pywinpty>=1.1.0 in c:\\users\\elitebook\\anaconda3\\lib\\site-packages (from terminado>=0.8.3->notebook>=4.4.1->widgetsnbextension~=3.5.0->ipywidgets>=7.0.0->swifter) (2.0.2)\n",
      "Requirement already satisfied: argon2-cffi-bindings in c:\\users\\elitebook\\anaconda3\\lib\\site-packages (from argon2-cffi->notebook>=4.4.1->widgetsnbextension~=3.5.0->ipywidgets>=7.0.0->swifter) (21.2.0)\n",
      "Requirement already satisfied: cffi>=1.0.1 in c:\\users\\elitebook\\anaconda3\\lib\\site-packages (from argon2-cffi-bindings->argon2-cffi->notebook>=4.4.1->widgetsnbextension~=3.5.0->ipywidgets>=7.0.0->swifter) (1.15.0)\n",
      "Requirement already satisfied: pycparser in c:\\users\\elitebook\\anaconda3\\lib\\site-packages (from cffi>=1.0.1->argon2-cffi-bindings->argon2-cffi->notebook>=4.4.1->widgetsnbextension~=3.5.0->ipywidgets>=7.0.0->swifter) (2.21)\n",
      "Requirement already satisfied: MarkupSafe>=0.23 in c:\\users\\elitebook\\anaconda3\\lib\\site-packages (from jinja2->notebook>=4.4.1->widgetsnbextension~=3.5.0->ipywidgets>=7.0.0->swifter) (2.0.1)\n",
      "Requirement already satisfied: jupyterlab-pygments in c:\\users\\elitebook\\anaconda3\\lib\\site-packages (from nbconvert->notebook>=4.4.1->widgetsnbextension~=3.5.0->ipywidgets>=7.0.0->swifter) (0.1.2)\n",
      "Requirement already satisfied: testpath in c:\\users\\elitebook\\anaconda3\\lib\\site-packages (from nbconvert->notebook>=4.4.1->widgetsnbextension~=3.5.0->ipywidgets>=7.0.0->swifter) (0.5.0)\n",
      "Requirement already satisfied: mistune<2,>=0.8.1 in c:\\users\\elitebook\\anaconda3\\lib\\site-packages (from nbconvert->notebook>=4.4.1->widgetsnbextension~=3.5.0->ipywidgets>=7.0.0->swifter) (0.8.4)\n",
      "Requirement already satisfied: entrypoints>=0.2.2 in c:\\users\\elitebook\\anaconda3\\lib\\site-packages (from nbconvert->notebook>=4.4.1->widgetsnbextension~=3.5.0->ipywidgets>=7.0.0->swifter) (0.4)\n",
      "Requirement already satisfied: pandocfilters>=1.4.1 in c:\\users\\elitebook\\anaconda3\\lib\\site-packages (from nbconvert->notebook>=4.4.1->widgetsnbextension~=3.5.0->ipywidgets>=7.0.0->swifter) (1.5.0)\n",
      "Requirement already satisfied: defusedxml in c:\\users\\elitebook\\anaconda3\\lib\\site-packages (from nbconvert->notebook>=4.4.1->widgetsnbextension~=3.5.0->ipywidgets>=7.0.0->swifter) (0.7.1)\n",
      "Requirement already satisfied: nbclient<0.6.0,>=0.5.0 in c:\\users\\elitebook\\anaconda3\\lib\\site-packages (from nbconvert->notebook>=4.4.1->widgetsnbextension~=3.5.0->ipywidgets>=7.0.0->swifter) (0.5.13)\n",
      "Requirement already satisfied: beautifulsoup4 in c:\\users\\elitebook\\anaconda3\\lib\\site-packages (from nbconvert->notebook>=4.4.1->widgetsnbextension~=3.5.0->ipywidgets>=7.0.0->swifter) (4.11.1)\n",
      "Requirement already satisfied: soupsieve>1.2 in c:\\users\\elitebook\\anaconda3\\lib\\site-packages (from beautifulsoup4->nbconvert->notebook>=4.4.1->widgetsnbextension~=3.5.0->ipywidgets>=7.0.0->swifter) (2.3.1)\n",
      "Requirement already satisfied: executing in c:\\users\\elitebook\\anaconda3\\lib\\site-packages (from stack-data->ipython>=4.0.0->ipywidgets>=7.0.0->swifter) (0.8.3)\n",
      "Requirement already satisfied: pure-eval in c:\\users\\elitebook\\anaconda3\\lib\\site-packages (from stack-data->ipython>=4.0.0->ipywidgets>=7.0.0->swifter) (0.2.2)\n",
      "Requirement already satisfied: asttokens in c:\\users\\elitebook\\anaconda3\\lib\\site-packages (from stack-data->ipython>=4.0.0->ipywidgets>=7.0.0->swifter) (2.0.5)\n",
      "Building wheels for collected packages: swifter\n",
      "  Building wheel for swifter (setup.py): started\n",
      "  Building wheel for swifter (setup.py): finished with status 'done'\n",
      "  Created wheel for swifter: filename=swifter-1.3.4-py3-none-any.whl size=16321 sha256=d13943d86d0484166264c736bdc1a9ba639193b502d3b98cc158928a85b03371\n",
      "  Stored in directory: c:\\users\\elitebook\\appdata\\local\\pip\\cache\\wheels\\2b\\5e\\f2\\3931524f702ffd03309e96d35ee2fbf9c61c27377511ee8d4c\n",
      "Successfully built swifter\n"
     ]
    },
    {
     "name": "stdout",
     "output_type": "stream",
     "text": [
      "Installing collected packages: swifter\n",
      "Successfully installed swifter-1.3.4\n"
     ]
    }
   ],
   "source": [
    "!pip install "
   ]
  },
  {
   "cell_type": "code",
   "execution_count": 39,
   "id": "81df0290",
   "metadata": {},
   "outputs": [
    {
     "name": "stdout",
     "output_type": "stream",
     "text": [
      "Collecting my_module\n",
      "  Downloading my_module-1.6.2.zip (967 bytes)\n",
      "Building wheels for collected packages: my-module\n",
      "  Building wheel for my-module (setup.py): started\n",
      "  Building wheel for my-module (setup.py): finished with status 'done'\n",
      "  Created wheel for my-module: filename=my_module-1.6.2-py3-none-any.whl size=1427 sha256=12d287fa025c1f43bf92ea54643e9a0965ad8a9d34007f43aeaa29a227ca279e\n",
      "  Stored in directory: c:\\users\\elitebook\\appdata\\local\\pip\\cache\\wheels\\f7\\ed\\98\\51de11048a1c870d648ccd0344bd11c620a8c020ba3b0016f3\n",
      "Successfully built my-module\n",
      "Installing collected packages: my-module\n",
      "Successfully installed my-module-1.6.2\n"
     ]
    }
   ],
   "source": [
    "!pip install my_module"
   ]
  },
  {
   "cell_type": "code",
   "execution_count": 41,
   "id": "2dbb3572",
   "metadata": {},
   "outputs": [
    {
     "name": "stdout",
     "output_type": "stream",
     "text": [
      "Collecting Vector\n",
      "  Downloading vector-0.11.0-py3-none-any.whl (168 kB)\n",
      "Requirement already satisfied: packaging>=19 in c:\\users\\elitebook\\anaconda3\\lib\\site-packages (from Vector) (21.3)\n",
      "Requirement already satisfied: numpy>=1.13.3 in c:\\users\\elitebook\\anaconda3\\lib\\site-packages (from Vector) (1.21.5)\n",
      "Requirement already satisfied: pyparsing!=3.0.5,>=2.0.2 in c:\\users\\elitebook\\anaconda3\\lib\\site-packages (from packaging>=19->Vector) (3.0.4)\n",
      "Installing collected packages: Vector\n",
      "Successfully installed Vector-0.11.0\n"
     ]
    }
   ],
   "source": [
    "!pip install Vector"
   ]
  },
  {
   "cell_type": "code",
   "execution_count": 11,
   "id": "82908a71",
   "metadata": {},
   "outputs": [
    {
     "name": "stdout",
     "output_type": "stream",
     "text": [
      "Requirement already satisfied: Vector in c:\\users\\elitebook\\anaconda3\\lib\\site-packages (0.11.0)\n",
      "Requirement already satisfied: numpy>=1.13.3 in c:\\users\\elitebook\\anaconda3\\lib\\site-packages (from Vector) (1.21.5)\n",
      "Requirement already satisfied: packaging>=19 in c:\\users\\elitebook\\anaconda3\\lib\\site-packages (from Vector) (21.3)\n",
      "Requirement already satisfied: pyparsing!=3.0.5,>=2.0.2 in c:\\users\\elitebook\\anaconda3\\lib\\site-packages (from packaging>=19->Vector) (3.0.4)\n"
     ]
    }
   ],
   "source": [
    "!pip install Vector"
   ]
  },
  {
   "cell_type": "code",
   "execution_count": 14,
   "id": "90d609d2",
   "metadata": {},
   "outputs": [
    {
     "name": "stdout",
     "output_type": "stream",
     "text": [
      "Requirement already satisfied: sentence_transformers in c:\\users\\elitebook\\anaconda3\\lib\\site-packages (2.2.2)\n",
      "Requirement already satisfied: huggingface-hub>=0.4.0 in c:\\users\\elitebook\\anaconda3\\lib\\site-packages (from sentence_transformers) (0.12.0)\n",
      "Requirement already satisfied: numpy in c:\\users\\elitebook\\anaconda3\\lib\\site-packages (from sentence_transformers) (1.21.5)\n",
      "Requirement already satisfied: torch>=1.6.0 in c:\\users\\elitebook\\anaconda3\\lib\\site-packages (from sentence_transformers) (1.13.1)\n",
      "Requirement already satisfied: sentencepiece in c:\\users\\elitebook\\anaconda3\\lib\\site-packages (from sentence_transformers) (0.1.97)\n",
      "Requirement already satisfied: scikit-learn in c:\\users\\elitebook\\anaconda3\\lib\\site-packages (from sentence_transformers) (1.0.2)\n",
      "Requirement already satisfied: torchvision in c:\\users\\elitebook\\anaconda3\\lib\\site-packages (from sentence_transformers) (0.14.1)\n",
      "Requirement already satisfied: tqdm in c:\\users\\elitebook\\anaconda3\\lib\\site-packages (from sentence_transformers) (4.64.1)\n",
      "Requirement already satisfied: scipy in c:\\users\\elitebook\\anaconda3\\lib\\site-packages (from sentence_transformers) (1.7.3)\n",
      "Requirement already satisfied: transformers<5.0.0,>=4.6.0 in c:\\users\\elitebook\\anaconda3\\lib\\site-packages (from sentence_transformers) (4.26.0)\n",
      "Requirement already satisfied: nltk in c:\\users\\elitebook\\anaconda3\\lib\\site-packages (from sentence_transformers) (3.7)\n",
      "Requirement already satisfied: requests in c:\\users\\elitebook\\anaconda3\\lib\\site-packages (from huggingface-hub>=0.4.0->sentence_transformers) (2.27.1)\n",
      "Requirement already satisfied: pyyaml>=5.1 in c:\\users\\elitebook\\anaconda3\\lib\\site-packages (from huggingface-hub>=0.4.0->sentence_transformers) (6.0)\n",
      "Requirement already satisfied: typing-extensions>=3.7.4.3 in c:\\users\\elitebook\\anaconda3\\lib\\site-packages (from huggingface-hub>=0.4.0->sentence_transformers) (4.1.1)\n",
      "Requirement already satisfied: packaging>=20.9 in c:\\users\\elitebook\\anaconda3\\lib\\site-packages (from huggingface-hub>=0.4.0->sentence_transformers) (21.3)\n",
      "Requirement already satisfied: filelock in c:\\users\\elitebook\\anaconda3\\lib\\site-packages (from huggingface-hub>=0.4.0->sentence_transformers) (3.6.0)\n",
      "Requirement already satisfied: pyparsing!=3.0.5,>=2.0.2 in c:\\users\\elitebook\\anaconda3\\lib\\site-packages (from packaging>=20.9->huggingface-hub>=0.4.0->sentence_transformers) (3.0.4)\n",
      "Requirement already satisfied: colorama in c:\\users\\elitebook\\anaconda3\\lib\\site-packages (from tqdm->sentence_transformers) (0.4.4)\n",
      "Requirement already satisfied: regex!=2019.12.17 in c:\\users\\elitebook\\anaconda3\\lib\\site-packages (from transformers<5.0.0,>=4.6.0->sentence_transformers) (2022.3.15)\n",
      "Requirement already satisfied: tokenizers!=0.11.3,<0.14,>=0.11.1 in c:\\users\\elitebook\\anaconda3\\lib\\site-packages (from transformers<5.0.0,>=4.6.0->sentence_transformers) (0.13.2)\n",
      "Requirement already satisfied: joblib in c:\\users\\elitebook\\anaconda3\\lib\\site-packages (from nltk->sentence_transformers) (1.1.0)\n",
      "Requirement already satisfied: click in c:\\users\\elitebook\\anaconda3\\lib\\site-packages (from nltk->sentence_transformers) (8.0.4)\n",
      "Requirement already satisfied: urllib3<1.27,>=1.21.1 in c:\\users\\elitebook\\anaconda3\\lib\\site-packages (from requests->huggingface-hub>=0.4.0->sentence_transformers) (1.26.9)\n",
      "Requirement already satisfied: charset-normalizer~=2.0.0 in c:\\users\\elitebook\\anaconda3\\lib\\site-packages (from requests->huggingface-hub>=0.4.0->sentence_transformers) (2.0.4)\n",
      "Requirement already satisfied: certifi>=2017.4.17 in c:\\users\\elitebook\\anaconda3\\lib\\site-packages (from requests->huggingface-hub>=0.4.0->sentence_transformers) (2021.10.8)\n",
      "Requirement already satisfied: idna<4,>=2.5 in c:\\users\\elitebook\\anaconda3\\lib\\site-packages (from requests->huggingface-hub>=0.4.0->sentence_transformers) (3.3)\n",
      "Requirement already satisfied: threadpoolctl>=2.0.0 in c:\\users\\elitebook\\anaconda3\\lib\\site-packages (from scikit-learn->sentence_transformers) (2.2.0)\n",
      "Requirement already satisfied: pillow!=8.3.*,>=5.3.0 in c:\\users\\elitebook\\anaconda3\\lib\\site-packages (from torchvision->sentence_transformers) (9.0.1)\n"
     ]
    }
   ],
   "source": [
    "!pip install sentence_transformers"
   ]
  },
  {
   "cell_type": "code",
   "execution_count": null,
   "id": "56e8ca70",
   "metadata": {},
   "outputs": [],
   "source": []
  }
 ],
 "metadata": {
  "kernelspec": {
   "display_name": "Python 3 (ipykernel)",
   "language": "python",
   "name": "python3"
  },
  "language_info": {
   "codemirror_mode": {
    "name": "ipython",
    "version": 3
   },
   "file_extension": ".py",
   "mimetype": "text/x-python",
   "name": "python",
   "nbconvert_exporter": "python",
   "pygments_lexer": "ipython3",
   "version": "3.9.12"
  }
 },
 "nbformat": 4,
 "nbformat_minor": 5
}
